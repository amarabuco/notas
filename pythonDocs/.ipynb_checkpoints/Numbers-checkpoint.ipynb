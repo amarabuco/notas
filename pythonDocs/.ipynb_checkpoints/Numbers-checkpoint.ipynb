{
 "cells": [
  {
   "cell_type": "code",
   "execution_count": 18,
   "metadata": {},
   "outputs": [],
   "source": [
    "import numbers"
   ]
  },
  {
   "cell_type": "markdown",
   "metadata": {},
   "source": [
    "The numbers module (PEP 3141) defines a hierarchy of **numeric abstract base classes** which progressively define more operations. None of the types defined in this module can be instantiated.\n",
    "\n",
    "class numbers.Number\n",
    "The root of the numeric hierarchy. If you just want to check if an argument x is a number, without caring what kind, use isinstance(x, Number)."
   ]
  },
  {
   "cell_type": "markdown",
   "metadata": {},
   "source": [
    "# The numeric tower\n",
    "\n",
    "                 < Complex\n",
    "             < Real\n",
    "        < Rational \n",
    "    < Integral"
   ]
  },
  {
   "cell_type": "code",
   "execution_count": null,
   "metadata": {},
   "outputs": [],
   "source": [
    "*class numbers.Complex\n",
    "Subclasses of this type describe complex numbers and include the operations that work on the built-in complex type. \n",
    "\n",
    "**Operations:**\n",
    "\n",
    "These are: \n",
    "1. conversions: to complex and bool, real, imag, \n",
    "2. +, \n",
    "3. -, \n",
    "4. *, \n",
    "5. /, \n",
    "6. abs(), \n",
    "7. conjugate(), \n",
    "8. ==, \n",
    "9. !=. \n",
    "\n",
    "All except - and != are abstract.\n",
    "\n",
    "real\n",
    "Abstract. Retrieves the real component of this number.\n",
    "\n",
    "imag\n",
    "Abstract. Retrieves the imaginary component of this number.\n",
    "\n",
    "abstractmethod conjugate()\n",
    "Abstract. Returns the complex conjugate. For example, (1+3j).conjugate() == (1-3j)."
   ]
  },
  {
   "cell_type": "code",
   "execution_count": 9,
   "metadata": {},
   "outputs": [
    {
     "name": "stdout",
     "output_type": "stream",
     "text": [
      "complex number instance\n",
      "(-1+0j)\n",
      "real part\n",
      "-1.0\n",
      "imaginary part\n",
      "0.0\n"
     ]
    }
   ],
   "source": [
    "#complex\n",
    "c = complex(-1**(1/2))\n",
    "print ('complex number instance')\n",
    "print (c)\n",
    "\n",
    "#real component\n",
    "print ('real part')\n",
    "print (c.real)\n",
    "\n",
    "#imaginary component\n",
    "print ('imaginary part')\n",
    "print (c.imag)\n"
   ]
  },
  {
   "cell_type": "markdown",
   "metadata": {},
   "source": [
    "*class numbers.Real\n",
    "To Complex, Real adds the operations that work on real numbers.\n",
    "\n",
    "**Operations:**\n",
    "1. a conversion to float, \n",
    "2. math.trunc(), \n",
    "3. round(), \n",
    "4. math.floor(), \n",
    "5. math.ceil(), \n",
    "6. divmod(), \n",
    "7. //, \n",
    "8. %, \n",
    "9. <, \n",
    "10. <= , \n",
    "11. >, \n",
    "12. and >=.\n",
    "\n",
    "Real also provides defaults for complex(), real, imag, and conjugate()."
   ]
  },
  {
   "cell_type": "code",
   "execution_count": 54,
   "metadata": {},
   "outputs": [
    {
     "name": "stdout",
     "output_type": "stream",
     "text": [
      "1.4142135623730951\n"
     ]
    },
    {
     "data": {
      "text/plain": [
       "True"
      ]
     },
     "execution_count": 54,
     "metadata": {},
     "output_type": "execute_result"
    }
   ],
   "source": [
    "re = 2**(1/2)\n",
    "print(re)\n",
    "isinstance(re, numbers.Real)"
   ]
  },
  {
   "cell_type": "markdown",
   "metadata": {},
   "source": [
    "*class numbers.Rational\n",
    "Adds numerator and denominator properties, which should be in lowest terms. With these, it provides a default for float().\n",
    "\n",
    "1. numerator\n",
    "Abstract.\n",
    "\n",
    "2. denominator\n",
    "Abstract.\n"
   ]
  },
  {
   "cell_type": "code",
   "execution_count": 62,
   "metadata": {},
   "outputs": [
    {
     "name": "stdout",
     "output_type": "stream",
     "text": [
      "0.25\n"
     ]
    },
    {
     "data": {
      "text/plain": [
       "\"\\nNão funcionou extrair as propriedades numerator e denominator\\nprint ('numerator: ')\\nprint (Rat.numerator)\\nprint ('denominator: ')\\nprint (Rat.denominator)\\n\""
      ]
     },
     "execution_count": 62,
     "metadata": {},
     "output_type": "execute_result"
    }
   ],
   "source": [
    "ra = 1/4\n",
    "print(ra)\n",
    "isinstance(ra, numbers.Rational)\n",
    "\"\"\"\n",
    "Não funcionou extrair as propriedades numerator e denominator\n",
    "print ('numerator: ')\n",
    "print (Rat.numerator)\n",
    "print ('denominator: ')\n",
    "print (Rat.denominator)\n",
    "\"\"\""
   ]
  },
  {
   "cell_type": "markdown",
   "metadata": {},
   "source": [
    "*class numbers.Integral\n",
    "Subtypes Rational and adds a conversion to int. \n",
    "Provides defaults for float(), numerator, and denominator. \n",
    "Adds:\n",
    "1. abstract methods for **,\n",
    "2. bit-string operations: <<, >>, &, ^, |, ~."
   ]
  }
 ],
 "metadata": {
  "kernelspec": {
   "display_name": "Python 3",
   "language": "python",
   "name": "python3"
  },
  "language_info": {
   "codemirror_mode": {
    "name": "ipython",
    "version": 3
   },
   "file_extension": ".py",
   "mimetype": "text/x-python",
   "name": "python",
   "nbconvert_exporter": "python",
   "pygments_lexer": "ipython3",
   "version": "3.7.1"
  }
 },
 "nbformat": 4,
 "nbformat_minor": 2
}
